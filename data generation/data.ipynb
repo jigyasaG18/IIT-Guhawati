{
 "cells": [
  {
   "cell_type": "code",
   "execution_count": 5,
   "id": "cfc18ff9-944b-4573-9984-7dc741e24fd3",
   "metadata": {},
   "outputs": [
    {
     "name": "stdout",
     "output_type": "stream",
     "text": [
      "✅ Dataset with 50,000 police station entries saved as 'Police_Stations_India.csv'\n"
     ]
    }
   ],
   "source": [
    "import pandas as pd\n",
    "import random\n",
    "\n",
    "# Expanded list of states and sample cities\n",
    "state_city_map = {\n",
    "    \"Maharashtra\": [\"Mumbai\", \"Pune\", \"Nagpur\", \"Nashik\"],\n",
    "    \"Delhi\": [\"Central Delhi\", \"South Delhi\", \"North Delhi\", \"East Delhi\", \"West Delhi\", \"New Delhi\"],\n",
    "    \"West Bengal\": [\"Kolkata\", \"Howrah\"],\n",
    "    \"Tamil Nadu\": [\"Chennai\", \"Coimbatore\", \"Madurai\"],\n",
    "    \"Karnataka\": [\"Bangalore\", \"Mysore\"],\n",
    "    \"Telangana\": [\"Hyderabad\", \"Warangal\"],\n",
    "    \"Gujarat\": [\"Ahmedabad\", \"Surat\", \"Vadodara\"],\n",
    "    \"Rajasthan\": [\"Jaipur\", \"Jodhpur\", \"Udaipur\"],\n",
    "    \"Uttar Pradesh\": [\"Lucknow\", \"Kanpur\", \"Varanasi\"],\n",
    "    \"Bihar\": [\"Patna\", \"Gaya\", \"Darbhanga\"],\n",
    "    \"Chhattisgarh\": [\"Raipur\", \"Bilaspur\"],\n",
    "    \"Odisha\": [\"Bhubaneswar\", \"Cuttack\"],\n",
    "    \"Punjab\": [\"Ludhiana\", \"Amritsar\"],\n",
    "    \"Madhya Pradesh\": [\"Bhopal\", \"Indore\", \"Gwalior\"],\n",
    "    \"Jharkhand\": [\"Ranchi\", \"Jamshedpur\"],\n",
    "    \"Kerala\": [\"Kochi\", \"Thiruvananthapuram\"],\n",
    "    \"Andhra Pradesh\": [\"Vijayawada\", \"Visakhapatnam\"],\n",
    "    \"Haryana\": [\"Gurgaon\", \"Hisar\"],\n",
    "    \"Goa\": [\"Panaji\", \"Margao\"]\n",
    "}\n",
    "\n",
    "# Generate email\n",
    "def generate_email(station_name):\n",
    "    return f\"contact@{station_name.replace(' ', '').lower()}.com\"\n",
    "\n",
    "# Generate phone number\n",
    "def generate_phone_number():\n",
    "    return str(random.randint(7000000000, 9999999999))\n",
    "\n",
    "# Generate dataset\n",
    "total_rows = 50000\n",
    "data = []\n",
    "\n",
    "for i in range(total_rows):\n",
    "    state = random.choice(list(state_city_map.keys()))\n",
    "    city_name = random.choice(state_city_map[state])\n",
    "    station_id = f\"PS{str(i + 1).zfill(5)}\"\n",
    "    station_name = f\"{city_name} Police Station\"\n",
    "    phone_number = generate_phone_number()\n",
    "    email = generate_email(station_name)\n",
    "\n",
    "    data.append([station_id, station_name, city_name, state, email, phone_number])\n",
    "\n",
    "# Create DataFrame\n",
    "df = pd.DataFrame(data, columns=[\"Number\", \"Police Station Name\", \"City\", \"State\", \"Email\", \"Phone Number\"])\n",
    "\n",
    "# Save to CSV\n",
    "file_path = \"Police_Stations_India.csv\"\n",
    "df.to_csv(file_path, index=False)\n",
    "\n",
    "print(f\"✅ Dataset with 50,000 police station entries saved as '{file_path}'\")"
   ]
  }
 ],
 "metadata": {
  "kernelspec": {
   "display_name": "Python 3 (ipykernel)",
   "language": "python",
   "name": "python3"
  },
  "language_info": {
   "codemirror_mode": {
    "name": "ipython",
    "version": 3
   },
   "file_extension": ".py",
   "mimetype": "text/x-python",
   "name": "python",
   "nbconvert_exporter": "python",
   "pygments_lexer": "ipython3",
   "version": "3.12.4"
  }
 },
 "nbformat": 4,
 "nbformat_minor": 5
}
