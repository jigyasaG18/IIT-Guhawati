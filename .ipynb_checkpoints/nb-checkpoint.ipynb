{
 "cells": [
  {
   "cell_type": "code",
   "execution_count": 6,
   "id": "e5c6ca3d-3293-46ba-9680-fd93d90d91e2",
   "metadata": {},
   "outputs": [
    {
     "data": {
      "image/png": "[encoded data removed]",
      "text/plain": [
       "<Figure size 640x480 with 1 Axes>"
      ]
     },
     "metadata": {},
     "output_type": "display_data"
    },
    {
     "name": "stdout",
     "output_type": "stream",
     "text": [
      "🔍 Accuracy: 1.0\n",
      "📊 Classification Report:\n",
      "               precision    recall  f1-score   support\n",
      "\n",
      "           0       1.00      1.00      1.00       761\n",
      "           1       1.00      1.00      1.00       339\n",
      "\n",
      "    accuracy                           1.00      1100\n",
      "   macro avg       1.00      1.00      1.00      1100\n",
      "weighted avg       1.00      1.00      1.00      1100\n",
      "\n",
      "🧮 Confusion Matrix:\n",
      " [[761   0]\n",
      " [  0 339]]\n",
      "\n",
      "⭐ Feature Importance:\n",
      " partner_alcoholic       0.299000\n",
      "past_violence           0.274123\n",
      "income                  0.119074\n",
      "mental_health_issues    0.109364\n",
      "has_support_system      0.096330\n",
      "education               0.053670\n",
      "age                     0.026257\n",
      "number_of_children      0.013076\n",
      "marital_status          0.009105\n",
      "dtype: float64\n"
     ]
    },
    {
     "data": {
      "text/plain": [
       "['scaler.pkl']"
      ]
     },
     "execution_count": 6,
     "metadata": {},
     "output_type": "execute_result"
    }
   ],
   "source": [
    "# 1. Import Libraries\n",
    "import pandas as pd\n",
    "import numpy as np\n",
    "import seaborn as sns\n",
    "import matplotlib.pyplot as plt\n",
    "from sklearn.model_selection import train_test_split\n",
    "from sklearn.ensemble import RandomForestClassifier\n",
    "from sklearn.metrics import classification_report, accuracy_score, confusion_matrix\n",
    "from sklearn.preprocessing import LabelEncoder, StandardScaler\n",
    "import joblib\n",
    "\n",
    "# 2. Load Dataset\n",
    "df = pd.read_csv('domestic_violence_data.csv')\n",
    "\n",
    "# 3. Encode Categorical Variables\n",
    "label_cols = ['education', 'income', 'marital_status',\n",
    "              'partner_alcoholic', 'has_support_system',\n",
    "              'past_violence', 'mental_health_issues']\n",
    "\n",
    "le = LabelEncoder()\n",
    "for col in label_cols:\n",
    "    df[col] = le.fit_transform(df[col].astype(str))\n",
    "\n",
    "# 4. Drop missing values if any (cleaning)\n",
    "df.dropna(inplace=True)\n",
    "\n",
    "# 5. EDA (Optional)\n",
    "sns.countplot(x='violence_occurred', data=df)\n",
    "plt.title('Domestic Violence Risk Distribution')\n",
    "plt.show()\n",
    "\n",
    "# 6. Feature Selection\n",
    "X = df.drop(['violence_occurred'], axis=1)\n",
    "y = df['violence_occurred']\n",
    "\n",
    "# 7. Scaling (important for some algorithms and model consistency)\n",
    "scaler = StandardScaler()\n",
    "X_scaled = scaler.fit_transform(X)\n",
    "\n",
    "# 8. Train/Test Split\n",
    "X_train, X_test, y_train, y_test = train_test_split(X_scaled, y, test_size=0.2, stratify=y, random_state=42)\n",
    "\n",
    "# 9. Train Model\n",
    "model = RandomForestClassifier(n_estimators=100, max_depth=10, random_state=42)\n",
    "model.fit(X_train, y_train)\n",
    "\n",
    "# 10. Evaluate\n",
    "y_pred = model.predict(X_test)\n",
    "print(\"🔍 Accuracy:\", accuracy_score(y_test, y_pred))\n",
    "print(\"📊 Classification Report:\\n\", classification_report(y_test, y_pred))\n",
    "print(\"🧮 Confusion Matrix:\\n\", confusion_matrix(y_test, y_pred))\n",
    "\n",
    "# 11. Feature Importance\n",
    "feature_importance = pd.Series(model.feature_importances_, index=df.drop('violence_occurred', axis=1).columns).sort_values(ascending=False)\n",
    "print(\"\\n⭐ Feature Importance:\\n\", feature_importance)\n",
    "\n",
    "# 12. Save Model and Scaler\n",
    "joblib.dump(model, 'domestic_violence_model.pkl')\n",
    "joblib.dump(scaler, 'scaler.pkl')"
   ]
  }
 ],
 "metadata": {
  "kernelspec": {
   "display_name": "Python 3 (ipykernel)",
   "language": "python",
   "name": "python3"
  },
  "language_info": {
   "codemirror_mode": {
    "name": "ipython",
    "version": 3
   },
   "file_extension": ".py",
   "mimetype": "text/x-python",
   "name": "python",
   "nbconvert_exporter": "python",
   "pygments_lexer": "ipython3",
   "version": "3.12.4"
  }
 },
 "nbformat": 4,
 "nbformat_minor": 5
}
