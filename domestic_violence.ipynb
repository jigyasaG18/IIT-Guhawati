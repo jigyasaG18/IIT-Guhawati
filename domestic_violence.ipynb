{
 "cells": [
  {
   "cell_type": "code",
   "execution_count": 9,
   "id": "e5c6ca3d-3293-46ba-9680-fd93d90d91e2",
   "metadata": {},
   "outputs": [
    {
     "data": {
      "image/png": "[encoded data removed]",
      "text/plain": [
       "<Figure size 640x480 with 1 Axes>"
      ]
     },
     "metadata": {},
     "output_type": "display_data"
    },
    {
     "name": "stdout",
     "output_type": "stream",
     "text": [
      "🔍 Accuracy: 0.9371333333333334\n",
      "📊 Classification Report:\n",
      "               precision    recall  f1-score   support\n",
      "\n",
      "           0       0.94      0.96      0.95     17765\n",
      "           1       0.94      0.90      0.92     12235\n",
      "\n",
      "    accuracy                           0.94     30000\n",
      "   macro avg       0.94      0.93      0.93     30000\n",
      "weighted avg       0.94      0.94      0.94     30000\n",
      "\n",
      "🧮 Confusion Matrix:\n",
      " [[17043   722]\n",
      " [ 1164 11071]]\n",
      "\n",
      "⭐ Feature Importance:\n",
      " past_violence           0.248069\n",
      "partner_alcoholic       0.244400\n",
      "self_substance_abuse    0.163892\n",
      "previous_reports        0.076257\n",
      "has_support_system      0.058482\n",
      "employment_status       0.051287\n",
      "mental_health_issues    0.050765\n",
      "income                  0.036952\n",
      "education               0.031149\n",
      "disability              0.018319\n",
      "housing_situation       0.010481\n",
      "has_partner             0.003634\n",
      "age                     0.002926\n",
      "number_of_children      0.001797\n",
      "marital_status          0.001593\n",
      "dtype: float64\n"
     ]
    },
    {
     "data": {
      "text/plain": [
       "['scaler.pkl']"
      ]
     },
     "execution_count": 9,
     "metadata": {},
     "output_type": "execute_result"
    }
   ],
   "source": [
    "# 1. Import Libraries\n",
    "import pandas as pd\n",
    "import numpy as np\n",
    "import seaborn as sns\n",
    "import matplotlib.pyplot as plt\n",
    "from sklearn.model_selection import train_test_split\n",
    "from sklearn.ensemble import RandomForestClassifier\n",
    "from sklearn.metrics import classification_report, accuracy_score, confusion_matrix\n",
    "from sklearn.preprocessing import LabelEncoder, StandardScaler\n",
    "import joblib\n",
    "\n",
    "# 2. Load Dataset\n",
    "df = pd.read_csv('domestic_violence_data.csv') \n",
    "\n",
    "# 3. Encode Categorical Variables\n",
    "categorical_cols = [\n",
    "    'education', 'income', 'marital_status', 'has_partner',\n",
    "    'partner_alcoholic', 'has_support_system', 'past_violence',\n",
    "    'mental_health_issues', 'employment_status', 'housing_situation',\n",
    "    'disability', 'self_substance_abuse'\n",
    "]\n",
    "\n",
    "# Apply label encoding to all categorical features\n",
    "le_dict = {}\n",
    "for col in categorical_cols:\n",
    "    le = LabelEncoder()\n",
    "    df[col] = le.fit_transform(df[col].astype(str))\n",
    "    le_dict[col] = le  # Save encoders if needed later\n",
    "\n",
    "# 4. Drop missing values if any\n",
    "df.dropna(inplace=True)\n",
    "\n",
    "# 5. EDA (Optional)\n",
    "sns.countplot(x='violence_occurred', data=df)\n",
    "plt.title('Domestic Violence Risk Distribution')\n",
    "plt.show()\n",
    "\n",
    "# 6. Feature Selection\n",
    "X = df.drop(['violence_occurred'], axis=1)\n",
    "y = df['violence_occurred']\n",
    "\n",
    "# 7. Scaling\n",
    "scaler = StandardScaler()\n",
    "X_scaled = scaler.fit_transform(X)\n",
    "\n",
    "# 8. Train/Test Split\n",
    "X_train, X_test, y_train, y_test = train_test_split(\n",
    "    X_scaled, y, test_size=0.2, stratify=y, random_state=42\n",
    ")\n",
    "\n",
    "# 9. Train Model\n",
    "model = RandomForestClassifier(n_estimators=100, max_depth=10, random_state=42)\n",
    "model.fit(X_train, y_train)\n",
    "\n",
    "# 10. Evaluate\n",
    "y_pred = model.predict(X_test)\n",
    "print(\"🔍 Accuracy:\", accuracy_score(y_test, y_pred))\n",
    "print(\"📊 Classification Report:\\n\", classification_report(y_test, y_pred))\n",
    "print(\"🧮 Confusion Matrix:\\n\", confusion_matrix(y_test, y_pred))\n",
    "\n",
    "# 11. Feature Importance\n",
    "feature_importance = pd.Series(model.feature_importances_, index=X.columns).sort_values(ascending=False)\n",
    "print(\"\\n⭐ Feature Importance:\\n\", feature_importance)\n",
    "\n",
    "# 12. Save Model and Scaler\n",
    "joblib.dump(model, 'domestic_violence_model.pkl')\n",
    "joblib.dump(scaler, 'scaler.pkl')"
   ]
  }
 ],
 "metadata": {
  "kernelspec": {
   "display_name": "Python 3 (ipykernel)",
   "language": "python",
   "name": "python3"
  },
  "language_info": {
   "codemirror_mode": {
    "name": "ipython",
    "version": 3
   },
   "file_extension": ".py",
   "mimetype": "text/x-python",
   "name": "python",
   "nbconvert_exporter": "python",
   "pygments_lexer": "ipython3",
   "version": "3.12.4"
  }
 },
 "nbformat": 4,
 "nbformat_minor": 5
}
